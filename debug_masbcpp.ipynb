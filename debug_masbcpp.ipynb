{
 "cells": [
  {
   "cell_type": "code",
   "execution_count": null,
   "metadata": {},
   "outputs": [],
   "source": [
    "#import packages\n",
    "import trimesh\n",
    "import numpy as np\n",
    "import matplotlib.pyplot as plt"
   ]
  },
  {
   "cell_type": "code",
   "execution_count": null,
   "metadata": {},
   "outputs": [],
   "source": [
    "#mesh an stl file and load it\n",
    "mesh = trimesh.load_mesh('./final-stls/cube.stl')\n",
    "mesh;"
   ]
  },
  {
   "cell_type": "code",
   "execution_count": null,
   "metadata": {},
   "outputs": [],
   "source": [
    "##use this to convert scenes to meshes\n",
    "\"\"\"\n",
    "def as_mesh(scene_or_mesh):\n",
    "    #convert a possible scene to a mesh.\n",
    "    #if conversion occurs, the returned mesh has only vertex and face data.\n",
    "    if isinstance(scene_or_mesh, trimesh.Scene):\n",
    "        if len(scene_or_mesh.geometry) == 0:\n",
    "            mesh = None  # empty scene\n",
    "        else:\n",
    "            # we lose texture information here\n",
    "            mesh = trimesh.util.concatenate(\n",
    "                tuple(trimesh.Trimesh(vertices=g.vertices, faces=g.faces)\n",
    "                    for g in scene_or_mesh.geometry.values()))\n",
    "    else:\n",
    "        assert(isinstance(mesh, trimesh.Trimesh))\n",
    "        mesh = scene_or_mesh\n",
    "    return mesh\n",
    "mesh = as_mesh(mesh)\n",
    "\"\"\""
   ]
  },
  {
   "cell_type": "code",
   "execution_count": null,
   "metadata": {},
   "outputs": [],
   "source": [
    "#check mesh bounds\n",
    "mesh.bounds;"
   ]
  },
  {
   "cell_type": "code",
   "execution_count": null,
   "metadata": {},
   "outputs": [],
   "source": [
    "#check mesh faces\n",
    "mesh.faces.shape;"
   ]
  },
  {
   "cell_type": "code",
   "execution_count": null,
   "metadata": {},
   "outputs": [],
   "source": [
    "#check mesh vertices\n",
    "mesh.vertices;"
   ]
  },
  {
   "cell_type": "code",
   "execution_count": null,
   "metadata": {},
   "outputs": [],
   "source": [
    "#check mesh normals\n",
    "mesh.vertex_normals;"
   ]
  },
  {
   "cell_type": "code",
   "execution_count": null,
   "metadata": {},
   "outputs": [],
   "source": [
    "#remesh with m value\n",
    "m = 10\n",
    "new_mesh = trimesh.Trimesh(*trimesh.remesh.subdivide_to_size(mesh.vertices, mesh.faces, m))\n",
    "new_mesh;"
   ]
  },
  {
   "cell_type": "code",
   "execution_count": null,
   "metadata": {},
   "outputs": [],
   "source": [
    "#export the new mesh\n",
    "new_mesh.export('./final-stls/new-cube-m10.stl');"
   ]
  },
  {
   "cell_type": "code",
   "execution_count": null,
   "metadata": {},
   "outputs": [],
   "source": [
    "#check new mesh bounds\n",
    "new_mesh.bounds;"
   ]
  },
  {
   "cell_type": "code",
   "execution_count": null,
   "metadata": {},
   "outputs": [],
   "source": [
    "#check new mesh faces\n",
    "new_mesh.faces.shape;"
   ]
  },
  {
   "cell_type": "code",
   "execution_count": null,
   "metadata": {},
   "outputs": [],
   "source": [
    "#check new mesh vertices\n",
    "new_mesh.vertices;\n"
   ]
  },
  {
   "cell_type": "code",
   "execution_count": null,
   "metadata": {},
   "outputs": [],
   "source": [
    "#check a range of normals\n",
    "new_mesh.vertex_normals[100:120];"
   ]
  },
  {
   "cell_type": "code",
   "execution_count": null,
   "metadata": {},
   "outputs": [],
   "source": [
    "#save coords and normals\n",
    "np.save('./testing/input/coords.npy', new_mesh.vertices)\n",
    "vn = np.array(new_mesh.vertex_normals, order = 'C')#change column to row major\n",
    "np.save('./testing/input/normals.npy', vn)"
   ]
  },
  {
   "cell_type": "code",
   "execution_count": null,
   "metadata": {},
   "outputs": [],
   "source": [
    "#check coords\n",
    "np.load('./testing/input/coords.npy');"
   ]
  },
  {
   "cell_type": "code",
   "execution_count": null,
   "metadata": {},
   "outputs": [],
   "source": [
    "#check normals\n",
    "np.load('./testing/input/normals.npy');"
   ]
  },
  {
   "cell_type": "code",
   "execution_count": null,
   "metadata": {},
   "outputs": [],
   "source": [
    "#run masbcpp with r\n",
    "r = 0.21\n",
    "!/tmp/stuff/masbcpp/compute_ma -r $r -p 0 -d 0 ./testing/input ./testing/output;#denoising deactivated"
   ]
  },
  {
   "cell_type": "code",
   "execution_count": null,
   "metadata": {},
   "outputs": [],
   "source": [
    "#check inner MA coords\n",
    "ma_coords_in = np.load('./testing/output/ma_coords_in.npy')\n",
    "ma_coords_in;"
   ]
  },
  {
   "cell_type": "code",
   "execution_count": null,
   "metadata": {},
   "outputs": [],
   "source": [
    "#check a range of inner MA coords\n",
    "ma_coords_in[10:100];"
   ]
  },
  {
   "cell_type": "code",
   "execution_count": null,
   "metadata": {},
   "outputs": [],
   "source": [
    "#create a point cloud using inner MA coords\n",
    "ma_coords_in_pc = trimesh.PointCloud(ma_coords_in)\n",
    "ma_coords_in_pc;"
   ]
  },
  {
   "cell_type": "code",
   "execution_count": null,
   "metadata": {},
   "outputs": [],
   "source": [
    "#load inner MA radii\n",
    "ma_rad_in = np.load('./testing/output/ma_rad_in.npy')\n",
    "ma_rad_in;"
   ]
  },
  {
   "cell_type": "code",
   "execution_count": null,
   "metadata": {},
   "outputs": [],
   "source": [
    "#remove negative values from inner MA radii\n",
    "ma_rad_in[ma_rad_in>0];"
   ]
  },
  {
   "cell_type": "code",
   "execution_count": null,
   "metadata": {},
   "outputs": [],
   "source": [
    "#remove non-finite inner MA radii\n",
    "\"\"\"\n",
    "dirty = ma_rad_in[ma_rad_in>0]\n",
    "clean = dirty[dirty<1E100]\n",
    "#load a range of inner radii values\n",
    "plt.hist(clean, 50)\n",
    "plt.ylabel('Number of spheres')\n",
    "plt.xlabel('Radius, r (mm)')\n",
    "plt.title('Brake Rotor Fillet Rim: Number of Spheres Versus Radius, r (mm)')\n",
    "\"\"\""
   ]
  },
  {
   "cell_type": "code",
   "execution_count": null,
   "metadata": {
    "scrolled": false
   },
   "outputs": [],
   "source": [
    "#plot histogram of number of spheres against radii at inner MA points\n",
    "plt.hist(ma_rad_in[ma_rad_in>0],50)\n",
    "plt.ylabel('Number of spheres')\n",
    "plt.xlabel('Radius, r (mm)')\n",
    "plt.title('Cube: Number of Spheres Versus Radius, r (mm)')"
   ]
  },
  {
   "cell_type": "code",
   "execution_count": null,
   "metadata": {},
   "outputs": [],
   "source": [
    "#remove NaNs from inner MA coords\n",
    "in_no_nans = np.nan_to_num(ma_coords_in)\n",
    "in_no_nans;"
   ]
  },
  {
   "cell_type": "code",
   "execution_count": null,
   "metadata": {},
   "outputs": [],
   "source": [
    "#check inner MA coords have no NaNs\n",
    "in_no_nans[10:150];"
   ]
  },
  {
   "cell_type": "code",
   "execution_count": null,
   "metadata": {},
   "outputs": [],
   "source": [
    "#create a point cloud using inner MA coords with no NaNs\n",
    "ma_coords_in_no_nans = trimesh.PointCloud(in_no_nans)\n",
    "ma_coords_in_no_nans"
   ]
  },
  {
   "cell_type": "code",
   "execution_count": null,
   "metadata": {},
   "outputs": [],
   "source": [
    "#export the inner MA coords wtih no NaNs as .obj file for MeshLab viewing \n",
    "ma_coords_in_no_nans.export('./testing/output/ma_coords_in_no_nans.obj');"
   ]
  },
  {
   "cell_type": "code",
   "execution_count": null,
   "metadata": {},
   "outputs": [],
   "source": [
    "#load inner MA coord indexes\n",
    "ma_qidx_in = np.load('./testing/output/ma_qidx_in.npy')\n",
    "ma_qidx_in;"
   ]
  }
 ],
 "metadata": {
  "kernelspec": {
   "display_name": "Python 3",
   "language": "python",
   "name": "python3"
  },
  "language_info": {
   "codemirror_mode": {
    "name": "ipython",
    "version": 3
   },
   "file_extension": ".py",
   "mimetype": "text/x-python",
   "name": "python",
   "nbconvert_exporter": "python",
   "pygments_lexer": "ipython3",
   "version": "3.8.5"
  }
 },
 "nbformat": 4,
 "nbformat_minor": 4
}
